{
 "cells": [
  {
   "cell_type": "code",
   "execution_count": null,
   "metadata": {},
   "outputs": [],
   "source": [
    "import torch\n",
    "import numpy as np\n",
    "from sklearn.preprocessing import MinMaxScaler\n",
    "\n",
    "def generate_spike_train(data, max_rate, time_window):\n",
    "    spike_trains = []\n",
    "    for value in data:\n",
    "        spike_rate = value * max_rate\n",
    "        spikes = torch.zeros(time_window)\n",
    "        num_spikes = int(spike_rate)\n",
    "        spike_times = torch.randperm(time_window)[:num_spikes]\n",
    "        spikes[spike_times] = 1\n",
    "        spike_trains.append(spikes)\n",
    "    return torch.cat(spike_trains)\n",
    "\n",
    "def minmax_scale_across_timepoints(data, scaler = MinMaxScaler()):\n",
    "    samples, timepoints, features = data.shape\n",
    "    data_reshaped = data.reshape(samples * timepoints, features)\n",
    "    data_scaled_reshaped = scaler.fit_transform(data_reshaped)    \n",
    "    return data_scaled_reshaped.reshape(samples, timepoints, features)\n",
    "\n",
    "from tqdm import tqdm\n",
    "def rate_encoder(dataset, max_rate = 10, time_window = 20):\n",
    "  samples, timepoints, features = dataset.shape\n",
    "  encoded_dataset = torch.zeros(samples, timepoints*time_window, features)\n",
    "  for i in range(samples):\n",
    "    for j in range(features):\n",
    "      encoded_dataset[i][:, j] = generate_spike_train(dataset[i][:, j], max_rate, time_window) \n",
    "  return encoded_dataset"
   ]
  }
 ],
 "metadata": {
  "language_info": {
   "name": "python"
  }
 },
 "nbformat": 4,
 "nbformat_minor": 2
}
