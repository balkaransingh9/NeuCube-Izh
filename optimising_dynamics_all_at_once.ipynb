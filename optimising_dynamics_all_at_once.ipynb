{
 "cells": [
  {
   "cell_type": "code",
   "execution_count": 5,
   "metadata": {},
   "outputs": [],
   "source": [
    "import pandas as pd\n",
    "rna_data = pd.read_csv(\"gene_data/rna_common_complete.csv\")\n",
    "rna_data = rna_data.sort_values(by=['sn','period']).reset_index(drop=True)"
   ]
  },
  {
   "cell_type": "code",
   "execution_count": 6,
   "metadata": {},
   "outputs": [],
   "source": [
    "X_og_shape = rna_data.drop(['sn','group','caarms_status','period'],axis=1).values\n",
    "X_reshaped = X_og_shape.reshape(len(set(rna_data['sn'])), 3, X_og_shape.shape[1])\n",
    "labels_group = rna_data[rna_data['period'] == 24]['group'].values\n",
    "labels = [0 if i == 'C' else 1 for i in labels_group]"
   ]
  },
  {
   "cell_type": "code",
   "execution_count": 7,
   "metadata": {},
   "outputs": [],
   "source": [
    "import torch\n",
    "from neucube.utils import SNR\n",
    "from neucube.utils import interpolate\n",
    "from neucube.encoder import Delta\n",
    "\n",
    "ratios = SNR(X_reshaped[:,0,:], labels)\n",
    "top_idx = torch.argsort(ratios, descending=True)[0:20]\n",
    "X_reshaped_topidx = X_reshaped[:,:,top_idx]\n",
    "interpolated_X = interpolate(X_reshaped_topidx, num_points=104)\n",
    "\n",
    "encoder = Delta(threshold=0.008)\n",
    "X = encoder.encode_dataset(interpolated_X)\n",
    "y = torch.tensor(labels)"
   ]
  },
  {
   "cell_type": "code",
   "execution_count": 8,
   "metadata": {},
   "outputs": [],
   "source": [
    "from neucube.sampler import TemporalBinning\n",
    "from neucube.utils import SeparationIndex\n",
    "def objective_function(res_, X_stimuli, labels, params):\n",
    "    a, b, c, d = params\n",
    "    res_.set_exc_parms(a=a, b=b, c=c, d=d)\n",
    "    out_spikes = res_.simulate(X_stimuli, mem_thr=30, train=False, verbose=False)\n",
    "    sampler = TemporalBinning(bin_size=10)\n",
    "    state_vec = sampler.sample(out_spikes)\n",
    "    # state_vec_SNR = SNR(state_vec,y)\n",
    "    # sv_top_feat = torch.argsort(state_vec_SNR, descending=True)[0:100]\n",
    "    # state_vec_top = state_vec[:,sv_top_feat]\n",
    "    return SeparationIndex(state_vec, labels).item()"
   ]
  },
  {
   "cell_type": "code",
   "execution_count": 9,
   "metadata": {},
   "outputs": [],
   "source": [
    "from neucube import IzhReservoir\n",
    "izh_res = IzhReservoir(inputs=X.shape[2], c=0.7, l=0.18, input_conn_prob=0.85)\n",
    "izh_res.set_exc_parms(a=0.06, b=0.55, c=-55, d=3)\n",
    "izh_res.set_inh_parms(a=0.01, b=0.2, c=-65, d=8)"
   ]
  },
  {
   "cell_type": "code",
   "execution_count": 10,
   "metadata": {},
   "outputs": [
    {
     "name": "stderr",
     "output_type": "stream",
     "text": [
      "c:\\Users\\singh\\miniconda3\\Lib\\site-packages\\nevergrad\\parametrization\\_datalayers.py:107: NevergradRuntimeWarning: Bounds are 0.19 sigma away from each other at the closest, you should aim for at least 3 for better quality.\n",
      "  warnings.warn(\n",
      "c:\\Users\\singh\\miniconda3\\Lib\\site-packages\\nevergrad\\parametrization\\_datalayers.py:107: NevergradRuntimeWarning: Bounds are 0.35000000000000003 sigma away from each other at the closest, you should aim for at least 3 for better quality.\n",
      "  warnings.warn(\n"
     ]
    },
    {
     "name": "stdout",
     "output_type": "stream",
     "text": [
      "Iteration 2/25, Current loss: -0.012394326739013195\n",
      "Iteration 4/25, Current loss: -0.012394162826240063\n",
      "Iteration 6/25, Current loss: -0.012618731707334518\n",
      "Iteration 8/25, Current loss: -0.009521330706775188\n",
      "Iteration 10/25, Current loss: -0.012998191639780998\n",
      "Iteration 12/25, Current loss: -0.012126754969358444\n",
      "Iteration 14/25, Current loss: -0.013073457404971123\n",
      "Iteration 16/25, Current loss: -0.01318083144724369\n",
      "Iteration 18/25, Current loss: -0.013073457404971123\n",
      "Iteration 20/25, Current loss: -0.014043139293789864\n",
      "Iteration 22/25, Current loss: -0.013073457404971123\n",
      "Iteration 24/25, Current loss: -0.012584158219397068\n",
      "Optimal x1: 0.010000000000000002\n",
      "Optimal x2: 0.22235012814720978\n",
      "Optimal x3: -47\n",
      "Optimal x4: 2\n"
     ]
    }
   ],
   "source": [
    "import nevergrad as ng\n",
    "import numpy as np\n",
    "from functools import partial\n",
    "\n",
    "parametrization = ng.p.Tuple(\n",
    "    ng.p.Scalar(init=izh_res.a.cpu()[0]),\n",
    "    ng.p.Scalar(init=izh_res.b.cpu()[0]), \n",
    "    ng.p.TransitionChoice(list(range(-65,-46))),\n",
    "    ng.p.TransitionChoice(list(range(2,9))),\n",
    ")\n",
    "\n",
    "# Ensure that the arrays can take on values in the specified range\n",
    "parametrization[0].set_bounds(lower=0.01, upper=0.2)\n",
    "parametrization[1].set_bounds(lower=0.2, upper=0.55)\n",
    "\n",
    "optimizer = ng.optimizers.PortfolioDiscreteOnePlusOne(parametrization=parametrization, budget=25)\n",
    "partial_objective_function = partial(objective_function, res_=izh_res, X_stimuli=X, labels=y)\n",
    "\n",
    "def print_progress(optimizer):\n",
    "    for i in range(optimizer.budget):\n",
    "        x = optimizer.ask()\n",
    "        loss = -partial_objective_function(params=x.value)\n",
    "        optimizer.tell(x, loss)\n",
    "        if (i + 1) % 2 == 0:\n",
    "            print(f\"Iteration {i + 1}/{optimizer.budget}, Current loss: {loss}\")\n",
    "\n",
    "print_progress(optimizer)\n",
    "recommendation = optimizer.provide_recommendation()\n",
    "optimal_a, optimal_b, optimal_c, optimal_d = recommendation.value\n",
    "\n",
    "print(\"Optimal x1:\", optimal_a)\n",
    "print(\"Optimal x2:\", optimal_b)\n",
    "print(\"Optimal x3:\", optimal_c)\n",
    "print(\"Optimal x4:\", optimal_d)"
   ]
  },
  {
   "cell_type": "code",
   "execution_count": 11,
   "metadata": {},
   "outputs": [
    {
     "name": "stderr",
     "output_type": "stream",
     "text": [
      "100%|██████████| 115/115 [00:25<00:00,  4.51it/s]\n"
     ]
    }
   ],
   "source": [
    "izh_res.set_exc_parms(a=optimal_a, b=optimal_b, c=optimal_c, d=optimal_d)\n",
    "opt_spike = izh_res.simulate(X, mem_thr=30, train=False, verbose=True)"
   ]
  },
  {
   "cell_type": "code",
   "execution_count": 12,
   "metadata": {},
   "outputs": [
    {
     "name": "stdout",
     "output_type": "stream",
     "text": [
      "torch.Size([115, 11000])\n"
     ]
    },
    {
     "name": "stderr",
     "output_type": "stream",
     "text": [
      "10it [00:00, 15.88it/s]"
     ]
    },
    {
     "name": "stdout",
     "output_type": "stream",
     "text": [
      "10-Fold Cross-Validation Accuracy: 0.8434782608695652\n",
      "[[56  8]\n",
      " [10 41]]\n",
      "separation: tensor(0.0140)\n"
     ]
    },
    {
     "name": "stderr",
     "output_type": "stream",
     "text": [
      "\n"
     ]
    }
   ],
   "source": [
    "from tqdm import tqdm\n",
    "from sklearn.model_selection import KFold\n",
    "from sklearn.svm import SVC\n",
    "from sklearn.metrics import accuracy_score, confusion_matrix\n",
    "from neucube.sampler import TemporalBinning\n",
    "from neucube.utils import SeparationIndex\n",
    "\n",
    "sampler = TemporalBinning(bin_size=10)\n",
    "opt_state_vec = sampler.sample(opt_spike)\n",
    "print(opt_state_vec.shape)\n",
    "\n",
    "num_folds = 10\n",
    "kf = KFold(n_splits=num_folds)\n",
    "\n",
    "true_labels = []\n",
    "predicted_labels = []\n",
    "\n",
    "for train_index, test_index in tqdm(kf.split(opt_state_vec)):\n",
    "    X_train_fold, X_test_fold = opt_state_vec[train_index], opt_state_vec[test_index]\n",
    "    y_train_fold, y_test_fold = y[train_index], y[test_index]\n",
    "\n",
    "    svm = SVC(kernel='linear', C=2)  # You can specify different kernels ('linear', 'poly', 'rbf', etc.)\n",
    "    svm.fit(X_train_fold, y_train_fold)\n",
    "    y_pred = svm.predict(X_test_fold)\n",
    "    true_labels.extend(y_test_fold)\n",
    "    predicted_labels.extend(y_pred)\n",
    "\n",
    "# Calculate accuracy\n",
    "accuracy = accuracy_score(true_labels, predicted_labels)\n",
    "print(\"10-Fold Cross-Validation Accuracy:\", accuracy)\n",
    "print(confusion_matrix(true_labels, predicted_labels))\n",
    "print(\"separation:\", SeparationIndex(opt_state_vec, y))"
   ]
  },
  {
   "cell_type": "code",
   "execution_count": 13,
   "metadata": {},
   "outputs": [
    {
     "name": "stderr",
     "output_type": "stream",
     "text": [
      "100%|██████████| 115/115 [00:25<00:00,  4.54it/s]\n"
     ]
    }
   ],
   "source": [
    "izh_res.set_exc_parms(a=0.06, b=0.55, c=-55, d=3)\n",
    "izh_res.set_inh_parms(a=0.01, b=0.2, c=-65, d=8)\n",
    "opt_spike = izh_res.simulate(X, mem_thr=30, train=False, verbose=True)"
   ]
  },
  {
   "cell_type": "code",
   "execution_count": 14,
   "metadata": {},
   "outputs": [
    {
     "name": "stdout",
     "output_type": "stream",
     "text": [
      "torch.Size([115, 11000])\n"
     ]
    },
    {
     "name": "stderr",
     "output_type": "stream",
     "text": [
      "10it [00:00, 12.12it/s]"
     ]
    },
    {
     "name": "stdout",
     "output_type": "stream",
     "text": [
      "10-Fold Cross-Validation Accuracy: 0.8\n",
      "[[52 12]\n",
      " [11 40]]\n",
      "separation: tensor(0.0112)\n"
     ]
    },
    {
     "name": "stderr",
     "output_type": "stream",
     "text": [
      "\n"
     ]
    }
   ],
   "source": [
    "sampler = TemporalBinning(bin_size=10)\n",
    "opt_state_vec = sampler.sample(opt_spike)\n",
    "print(opt_state_vec.shape)\n",
    "\n",
    "num_folds = 10\n",
    "kf = KFold(n_splits=num_folds)\n",
    "\n",
    "true_labels = []\n",
    "predicted_labels = []\n",
    "\n",
    "for train_index, test_index in tqdm(kf.split(opt_state_vec)):\n",
    "    X_train_fold, X_test_fold = opt_state_vec[train_index], opt_state_vec[test_index]\n",
    "    y_train_fold, y_test_fold = y[train_index], y[test_index]\n",
    "\n",
    "    svm = SVC(kernel='linear', C=2)  # You can specify different kernels ('linear', 'poly', 'rbf', etc.)\n",
    "    svm.fit(X_train_fold, y_train_fold)\n",
    "    y_pred = svm.predict(X_test_fold)\n",
    "    true_labels.extend(y_test_fold)\n",
    "    predicted_labels.extend(y_pred)\n",
    "\n",
    "# Calculate accuracy\n",
    "accuracy = accuracy_score(true_labels, predicted_labels)\n",
    "print(\"10-Fold Cross-Validation Accuracy:\", accuracy)\n",
    "print(confusion_matrix(true_labels, predicted_labels))\n",
    "print(\"separation:\", SeparationIndex(opt_state_vec, y))"
   ]
  }
 ],
 "metadata": {
  "kernelspec": {
   "display_name": "base",
   "language": "python",
   "name": "python3"
  },
  "language_info": {
   "codemirror_mode": {
    "name": "ipython",
    "version": 3
   },
   "file_extension": ".py",
   "mimetype": "text/x-python",
   "name": "python",
   "nbconvert_exporter": "python",
   "pygments_lexer": "ipython3",
   "version": "3.12.2"
  }
 },
 "nbformat": 4,
 "nbformat_minor": 2
}
